{
 "cells": [
  {
   "cell_type": "code",
   "execution_count": 1,
   "id": "601a3600",
   "metadata": {},
   "outputs": [
    {
     "name": "stdout",
     "output_type": "stream",
     "text": [
      "Hello\n"
     ]
    }
   ],
   "source": [
    "print(\"Hello\")"
   ]
  },
  {
   "cell_type": "markdown",
   "id": "8879d765",
   "metadata": {},
   "source": [
    "# Angela Berry\n",
    "*girl mom, cat mom, librarian, higherEdTech-person, part-time baker??*\n",
    "\n",
    "- Loves having fun and keeping things silly\n",
    "- Struggles to not fill silence in class (she's sorry)\n",
    "- Chronically sleepy\n",
    "\n",
    "----------\n",
    "\n",
    "> Right now, we are v excited to leverage skills and tools from the Data Analysis pathway into ordering and menu strategizing at [Tastee Treats](https://www.tasteetreatslou.com/)!!"
   ]
  }
 ],
 "metadata": {
  "kernelspec": {
   "display_name": "Python 3",
   "language": "python",
   "name": "python3"
  },
  "language_info": {
   "codemirror_mode": {
    "name": "ipython",
    "version": 3
   },
   "file_extension": ".py",
   "mimetype": "text/x-python",
   "name": "python",
   "nbconvert_exporter": "python",
   "pygments_lexer": "ipython3",
   "version": "3.13.4"
  }
 },
 "nbformat": 4,
 "nbformat_minor": 5
}
